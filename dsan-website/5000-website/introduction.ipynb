{
 "cells": [
  {
   "cell_type": "raw",
   "metadata": {},
   "source": [
    "---\n",
    "title: 'Introduction'\n",
    "author: Hannah Kim\n",
    "jupyter: python3\n",
    "format: \n",
    "  html:\n",
    "    embed-resources: true \n",
    "bibliography: references.bib\n",
    "---"
   ]
  },
  {
   "cell_type": "markdown",
   "metadata": {},
   "source": [
    "# About this project\n",
    "\n",
    "The goal of this project is to create a model that accurately predicts which species will be threatened based on climate change; ideally, we would use this prediction to find the species that are at risk of being threatened based on antrhopogenic pollutants such as CO2 emissions radioactive pollution. I believe this type of model would be of interest to analysts, enviornmentalists, and anyone who are interested in wildlife and climate change.\n",
    "\n",
    "From my prior experience and understanding of this filed, I would expect the number of threatened species to have strong correlations with the amount of CO2 emissions. But I am also interested in finding those that no one expects to be relevant so that the results could give us a new insight in protecting the wildlife animals. \n",
    "\n",
    "I will need to create a dataset of species and add features gathered from multiple data sources. I will also need to create a dataset of climate change (e.g., CO2 emissions, radioactive materials, greenhouse gas). The problem with this is that the variables will be subjective, and this could skew the predictions toward my beliefs. My goal for the project is to use either a categorization or regression model to predict whether such species will be threatened or not, and if it is, which human-driven pollutants cause the most. \n",
    "\n",
    "I think that my model will be able to predict on the testing data with an accuracy rate higher than 75%. "
   ]
  },
  {
   "cell_type": "markdown",
   "metadata": {},
   "source": [
    "# Topic\n",
    "## Animal Protection, Threatened Species\n",
    "\n",
    "![wildlife1](./images/wildlife.png)[^1]\n",
    "\n",
    "\n",
    "## Why I chose this topic\n",
    "\n",
    "<p> Climate change is already having a significnat impact on wildlife animals around he globe. Shifts in climate conditions are causing shift in species' habitat and even causing extinction. As temperatures rise and weather patterns become more erratic, the delicate balance of ecosystems is increasingly under threat, posing a grave danger to countless species worldwide. As a person who is deeply interested in wildlife, I've been closely following the news that consistently highlights the inadvertent threats posed by climate change and environmental shifts to ecosystems. In light of this concerning trend, I'm eager to embark on a project that delves into critical questions surrounding the impact of climate change on ecosystems. </p>\n",
    "\n",
    "## 10 questions\n",
    "\n",
    "To help us understand which types of data we would have to gather to answer our data science question, we were asked to come up with a few more specific questions that we will need to answer to get to the main questions. My questions are the following 10; the first five questions are reffering to Data Science process and the last five questions are referring to the topics that I would consider when gathering the data:\n",
    "\n",
    "1. Which species are at risk of extinction due to global warming?\n",
    "2. Which species are at risk of extinction due to CO2 emissions?\n",
    "3. Which dataset would be appropriate for our goal of this project?\n",
    "4. Would there be a dataset that contains both species related data and climate data?\n",
    "5. If not, what data cleaning method should we use before moving onto data exploration?\n",
    "6. What effects does the deforestation have on both terrestrial and marine animals?\n",
    "7. What is the change in the habitat of marine animal species in Southern seas of S.Korea and Australia due to global warming? \n",
    "8. What is the change in the population of terrestrial animal species in a certain area due to global warming?\n",
    "9. How many mutations have occured in marine animals due to a nuclear power plant explosions?\n",
    "10. How many mutations have occured in terrestrial animals due to a nuclear power plant explosions?\n",
    "\n",
    "\n",
    "## Academic Publications\n",
    "### 1. Effects of global climate change on the patterns of terrestrial biological communities[@graham1990effects]\n",
    "<p>Recent paleobiological research has shown that late-Quaternary global warming caused individual species distributions to change along environmental gradients in different directions, at different rates, and over different periods. The individualistic responses of the biota created new community patterns. Individualistic changes can be anticipated in the future and if, as predicted, the rate of warming caused by the 'greenhouse effect' is greater than in past events, then the individualistic responses mug be even more profound. </p>\n",
    "\n",
    "<p><strong>Two alternative models define the spectrum of possible community responses to climate change:</strong>\n",
    "\n",
    "1. Static Community Model: large groups of species shift as tightly linked and highly coevolved assemblages.\n",
    "  - predicts that communities are stable and remain as units through long periods of geologic time.\n",
    "  - suggest that communities maintain their compositional integrity and track environmental changes by shifting their geographic distributions as tightly linked and highly coevolved groups of species. \n",
    "2. Individualistic or Dynamic Community Model: individual species respond differentially.\n",
    "  - suggests that communities are loosely organized collections of species whose coexistence is dependent upon a host of physical, biological and historical variables.  </p>\n",
    "\n",
    "<p><strong>Two evidence for these models:</strong>\n",
    "\n",
    "1. Phytogeographic evidence\n",
    "2. Zoogeographic evidence </p>\n",
    "\n",
    "### 2. Climate and change in oceanic ecosystems: The value of time-series data[@mcgowan1990climate]\n",
    "<p>The consequences of climatic change for the structure and function of oceanic ecosystems are of considerable current interest. A predictive, mechanistic model of these consequences based on our scanty knowledge of the dynamics of the systems' components seems unlikely: a complex set of simultaneous partial differential equations depicting population interactions and transfer rates of energy and materials would be necessary. A second approach is simply to measure the phenomenologg of variations in both climate and ecosystem components, for the purpose of detecting shared patterns. Two studies of the latter type have 6een done. Both have been successful in revealing relationships between climatic variation and large-scale, largeamplitude, low-frequency Giological variability. Both sets of results can provide models for the prediction of consequences, and 60th can serve as baselines for the definition of 'change'.</p>\n",
    "\n",
    "\n",
    "\n",
    "[^1]: https://www.azolifesciences.com/article/Why-is-Wildlife-Conservation-Crucial-to-a-Sustainable-Future.aspx \n"
   ]
  }
 ],
 "metadata": {
  "kernelspec": {
   "display_name": "base",
   "language": "python",
   "name": "python3"
  },
  "language_info": {
   "name": "python",
   "version": "3.8.16"
  },
  "orig_nbformat": 4
 },
 "nbformat": 4,
 "nbformat_minor": 2
}
