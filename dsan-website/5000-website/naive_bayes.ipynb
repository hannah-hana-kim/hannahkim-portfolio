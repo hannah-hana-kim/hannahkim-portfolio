{
 "cells": [
  {
   "cell_type": "raw",
   "metadata": {},
   "source": [
    "---\n",
    "title: Naïve Bayes\n",
    "author: \"Hannah Kim\"\n",
    "format:\n",
    "  html:\n",
    "    embed-resources: true\n",
    "\n",
    "jupyter: python3\n",
    "---"
   ]
  },
  {
   "cell_type": "markdown",
   "metadata": {},
   "source": [
    "# Naïve Bayes"
   ]
  },
  {
   "cell_type": "markdown",
   "metadata": {},
   "source": [
    "## Introduction\n",
    "### About Naïve Bayes\n",
    "\n",
    "Naive Bayes classifier is a supervised machine learning algorithm and seeks to model the distribution of inputs of a given class or category. It is widely used for classification tasks, especially in natural language processing and text analysis, spam filtering, etc. \n",
    "Naive Bayes is based on the Bayes Theorem, which calculates the probability of a hypothesis (class label) given some observed evidence\n",
    "(features). Mathematically, Bayes' theorem is represented as:\n",
    "\n",
    "$$\n",
    "P(Class|Features) = \\frac{P(Features|Class)*P(Class)}{P(Features)}\n",
    "$$\n",
    "\n",
    "__Objectives__: We would like to divide my 'Wild Life' dataset into train and test dataset, and see how much accuracy the Naive Bayes model will give us. By using the 'IUCN' column as a lable, we would want to see how much the model will get the test data right. \n",
    "\n",
    "__Acheivements__: We would like to acheive the accuracy of the model via using the Naive Bayes classification, and see how accurate the Naive Bayes model is. \n",
    "\n",
    "### Types of Naïve Bayes Classifier\n",
    "__1. Gaussian Naive Bayes__\n",
    "   \n",
    "   Gaussian Naive Bayes is used when the variable is continuous variable. This model is suitable for data such as measurements, where the value follows a normal distribution. \n",
    "\n",
    "__2. Multinomial Naive Bayes__\n",
    "\n",
    "   This model runs for varibles that are bigger than 2, more options other than 0 and 1, and it is often used in text classification where the features are word counts. We use `MultinomialNB` object and this implements the naive Bayes algorithm for multinomially distributed data, and is one of the two classic naive Bayes variants used in text classification.\n",
    "\n",
    "__3. Bernoulli Naive Bayes__\n",
    "\n",
    "   This model runs when the variables hold 0 and 1. We use `BernoulliNB` object for this case, and this might perform better on some datasets, especially those with shorter documents. It is advisable to evaluate both models, if time permits."
   ]
  },
  {
   "cell_type": "markdown",
   "metadata": {},
   "source": [
    "## Prepare Data for Naïve Bayes\n",
    "\n",
    "1. Record Data: Wild Life dataset\n",
    "2. Text Data: Data retrieved via Wikipedia API"
   ]
  },
  {
   "cell_type": "code",
   "execution_count": 99,
   "metadata": {},
   "outputs": [],
   "source": [
    "import numpy as np \n",
    "import seaborn as sns\n",
    "import pandas as pd\n",
    "import matplotlib.pyplot as plt\n",
    "import scipy\n",
    "import sklearn \n",
    "import itertools\n",
    "from scipy.stats import spearmanr\n",
    "from sklearn.preprocessing import StandardScaler\n",
    "from sklearn.model_selection import train_test_split\n",
    "from sklearn.naive_bayes import GaussianNB"
   ]
  },
  {
   "cell_type": "markdown",
   "metadata": {},
   "source": [
    "### 1. Record Data: Wild Life Dataset"
   ]
  },
  {
   "cell_type": "code",
   "execution_count": 100,
   "metadata": {},
   "outputs": [],
   "source": [
    "wildlife = pd.read_csv('./data/wild_life_cleaned.csv')\n",
    "df = wildlife[['IUCN','Species','Country','Value']]"
   ]
  },
  {
   "cell_type": "markdown",
   "metadata": {},
   "source": [
    "### 2. Text Data: Data retrieved via News API"
   ]
  },
  {
   "cell_type": "code",
   "execution_count": 112,
   "metadata": {},
   "outputs": [
    {
     "data": {
      "text/html": [
       "<div>\n",
       "<style scoped>\n",
       "    .dataframe tbody tr th:only-of-type {\n",
       "        vertical-align: middle;\n",
       "    }\n",
       "\n",
       "    .dataframe tbody tr th {\n",
       "        vertical-align: top;\n",
       "    }\n",
       "\n",
       "    .dataframe thead th {\n",
       "        text-align: right;\n",
       "    }\n",
       "</style>\n",
       "<table border=\"1\" class=\"dataframe\">\n",
       "  <thead>\n",
       "    <tr style=\"text-align: right;\">\n",
       "      <th></th>\n",
       "      <th>text</th>\n",
       "      <th>label</th>\n",
       "      <th>sentiment</th>\n",
       "    </tr>\n",
       "  </thead>\n",
       "  <tbody>\n",
       "    <tr>\n",
       "      <th>0</th>\n",
       "      <td>pursuant eagle feather law title 50 part 22 co...</td>\n",
       "      <td>Wildlife</td>\n",
       "      <td>0.9670</td>\n",
       "    </tr>\n",
       "    <tr>\n",
       "      <th>1</th>\n",
       "      <td>founding 1896 work division biological survey ...</td>\n",
       "      <td>Wildlife</td>\n",
       "      <td>0.9468</td>\n",
       "    </tr>\n",
       "    <tr>\n",
       "      <th>2</th>\n",
       "      <td>edward goldman survey made perfectly clear pos...</td>\n",
       "      <td>Wildlife</td>\n",
       "      <td>-0.9313</td>\n",
       "    </tr>\n",
       "    <tr>\n",
       "      <th>3</th>\n",
       "      <td>1940 1970 fws 1956 usfws operated fleet seagoi...</td>\n",
       "      <td>Wildlife</td>\n",
       "      <td>0.0000</td>\n",
       "    </tr>\n",
       "    <tr>\n",
       "      <th>4</th>\n",
       "      <td>upon creation 1940 fws inherited bof fleet bro...</td>\n",
       "      <td>Wildlife</td>\n",
       "      <td>0.6369</td>\n",
       "    </tr>\n",
       "  </tbody>\n",
       "</table>\n",
       "</div>"
      ],
      "text/plain": [
       "                                                text     label  sentiment\n",
       "0  pursuant eagle feather law title 50 part 22 co...  Wildlife     0.9670\n",
       "1  founding 1896 work division biological survey ...  Wildlife     0.9468\n",
       "2  edward goldman survey made perfectly clear pos...  Wildlife    -0.9313\n",
       "3  1940 1970 fws 1956 usfws operated fleet seagoi...  Wildlife     0.0000\n",
       "4  upon creation 1940 fws inherited bof fleet bro...  Wildlife     0.6369"
      ]
     },
     "execution_count": 112,
     "metadata": {},
     "output_type": "execute_result"
    }
   ],
   "source": [
    "# load the text data\n",
    "textdata = pd.read_csv('./data/wiki_textdata.csv')\n",
    "\n",
    "textdata.head()"
   ]
  },
  {
   "cell_type": "code",
   "execution_count": 113,
   "metadata": {},
   "outputs": [
    {
     "data": {
      "text/html": [
       "<div>\n",
       "<style scoped>\n",
       "    .dataframe tbody tr th:only-of-type {\n",
       "        vertical-align: middle;\n",
       "    }\n",
       "\n",
       "    .dataframe tbody tr th {\n",
       "        vertical-align: top;\n",
       "    }\n",
       "\n",
       "    .dataframe thead th {\n",
       "        text-align: right;\n",
       "    }\n",
       "</style>\n",
       "<table border=\"1\" class=\"dataframe\">\n",
       "  <thead>\n",
       "    <tr style=\"text-align: right;\">\n",
       "      <th></th>\n",
       "      <th>text</th>\n",
       "      <th>sentiment</th>\n",
       "    </tr>\n",
       "  </thead>\n",
       "  <tbody>\n",
       "    <tr>\n",
       "      <th>0</th>\n",
       "      <td>pursuant eagle feather law title 50 part 22 co...</td>\n",
       "      <td>positive</td>\n",
       "    </tr>\n",
       "    <tr>\n",
       "      <th>1</th>\n",
       "      <td>founding 1896 work division biological survey ...</td>\n",
       "      <td>positive</td>\n",
       "    </tr>\n",
       "    <tr>\n",
       "      <th>2</th>\n",
       "      <td>edward goldman survey made perfectly clear pos...</td>\n",
       "      <td>negative</td>\n",
       "    </tr>\n",
       "    <tr>\n",
       "      <th>3</th>\n",
       "      <td>1940 1970 fws 1956 usfws operated fleet seagoi...</td>\n",
       "      <td>neutral</td>\n",
       "    </tr>\n",
       "    <tr>\n",
       "      <th>4</th>\n",
       "      <td>upon creation 1940 fws inherited bof fleet bro...</td>\n",
       "      <td>positive</td>\n",
       "    </tr>\n",
       "  </tbody>\n",
       "</table>\n",
       "</div>"
      ],
      "text/plain": [
       "                                                text sentiment\n",
       "0  pursuant eagle feather law title 50 part 22 co...  positive\n",
       "1  founding 1896 work division biological survey ...  positive\n",
       "2  edward goldman survey made perfectly clear pos...  negative\n",
       "3  1940 1970 fws 1956 usfws operated fleet seagoi...   neutral\n",
       "4  upon creation 1940 fws inherited bof fleet bro...  positive"
      ]
     },
     "execution_count": 113,
     "metadata": {},
     "output_type": "execute_result"
    }
   ],
   "source": [
    "def categorize_sentiment(value):\n",
    "    if value >= 0.5:\n",
    "        return 'positive'\n",
    "    elif value < 0.5 and value >= 0:\n",
    "        return 'neutral'\n",
    "    else:\n",
    "        return 'negative'\n",
    "\n",
    "textdata = textdata[['text', 'sentiment']]\n",
    "textdata['sentiment'] = textdata['sentiment'].apply(lambda x: categorize_sentiment(x))\n",
    "\n",
    "textdata.head()"
   ]
  },
  {
   "cell_type": "code",
   "execution_count": 114,
   "metadata": {},
   "outputs": [
    {
     "data": {
      "text/html": [
       "<div>\n",
       "<style scoped>\n",
       "    .dataframe tbody tr th:only-of-type {\n",
       "        vertical-align: middle;\n",
       "    }\n",
       "\n",
       "    .dataframe tbody tr th {\n",
       "        vertical-align: top;\n",
       "    }\n",
       "\n",
       "    .dataframe thead th {\n",
       "        text-align: right;\n",
       "    }\n",
       "</style>\n",
       "<table border=\"1\" class=\"dataframe\">\n",
       "  <thead>\n",
       "    <tr style=\"text-align: right;\">\n",
       "      <th></th>\n",
       "      <th>text</th>\n",
       "      <th>sentiment</th>\n",
       "    </tr>\n",
       "  </thead>\n",
       "  <tbody>\n",
       "    <tr>\n",
       "      <th>80</th>\n",
       "      <td>least one wildlife refuge every state national...</td>\n",
       "      <td>positive</td>\n",
       "    </tr>\n",
       "    <tr>\n",
       "      <th>464</th>\n",
       "      <td>wind solar power production consistently match...</td>\n",
       "      <td>positive</td>\n",
       "    </tr>\n",
       "    <tr>\n",
       "      <th>346</th>\n",
       "      <td>climate change doubter bob inglis former repre...</td>\n",
       "      <td>negative</td>\n",
       "    </tr>\n",
       "    <tr>\n",
       "      <th>627</th>\n",
       "      <td>jepsen henrik et al negotiating paris agreemen...</td>\n",
       "      <td>positive</td>\n",
       "    </tr>\n",
       "    <tr>\n",
       "      <th>371</th>\n",
       "      <td>cop negotiation resumed 17 27 july 2001 bonn g...</td>\n",
       "      <td>positive</td>\n",
       "    </tr>\n",
       "  </tbody>\n",
       "</table>\n",
       "</div>"
      ],
      "text/plain": [
       "                                                  text sentiment\n",
       "80   least one wildlife refuge every state national...  positive\n",
       "464  wind solar power production consistently match...  positive\n",
       "346  climate change doubter bob inglis former repre...  negative\n",
       "627  jepsen henrik et al negotiating paris agreemen...  positive\n",
       "371  cop negotiation resumed 17 27 july 2001 bonn g...  positive"
      ]
     },
     "execution_count": 114,
     "metadata": {},
     "output_type": "execute_result"
    }
   ],
   "source": [
    "train_data, test_data = train_test_split(textdata, test_size=0.2, random_state=42)\n",
    "train_data, val_data = train_test_split(train_data, test_size=0.1, random_state=42)\n",
    "\n",
    "train_data.head()"
   ]
  },
  {
   "cell_type": "markdown",
   "metadata": {},
   "source": [
    "## Feature Selection"
   ]
  },
  {
   "cell_type": "code",
   "execution_count": 60,
   "metadata": {},
   "outputs": [],
   "source": [
    "# This function computes the figure of merit given a subset of features\n",
    "# it works for both the Pearson and Spearman correlation matrix\n",
    "\n",
    "def merit(x, y, correlation='pearson'):\n",
    "    k = x.shape[1]\n",
    "    \n",
    "    if correlation == 'pearson':\n",
    "        rho_xx = np.mean(np.corrcoef(x, x, rowvar = False))\n",
    "        rho_xy = np.mean(np.corrcoef(x, y, rowvar = False))\n",
    "    elif correlation == 'spearman':\n",
    "        rho_xx = np.mean(spearmanr(x, x, axis = 0)[0])\n",
    "        rho_xy = np.mean(spearmanr(x, y, axis = 0)[0])\n",
    "    else:\n",
    "        raise ValueError(\"Error: Unsupported Correlation Method. Try Again.\")\n",
    "    \n",
    "    merit_numerator = k * np.absolute(rho_xy)\n",
    "    merit_denominator = np.sqrt(k + k * (k - 1) * np.absolute(rho_xx))\n",
    "    merit_score = merit_numerator / merit_denominator\n",
    "    \n",
    "    return merit_score\n",
    "\n",
    "\n",
    "# this function takes two matrices x and y, iterates over all possible subset combinations of the x features, \n",
    "# and computes the figure of merit for each subset. \n",
    "# It keeps track of the max merit and returns the optimal subset at the end\n",
    "def maximize_CFS(x, y):\n",
    "    num_features = x.shape[1]\n",
    "    max_merit = 0\n",
    "    optimal_subset = None\n",
    "    list1 = [*range(0, num_features)]\n",
    "    for L in range(1, len(list1) + 1):\n",
    "        for subset in itertools.combinations(list1, L):\n",
    "            x_subset = x[:, list(subset)]\n",
    "            subset_merit = merit(x_subset, y)\n",
    "            if subset_merit > max_merit:\n",
    "                max_merit = subset_merit\n",
    "                optimal_subset = list(subset)\n",
    "    return optimal_subset  # return the indices of selected features"
   ]
  },
  {
   "cell_type": "markdown",
   "metadata": {},
   "source": [
    "### Feature Selection for Record Data"
   ]
  },
  {
   "cell_type": "code",
   "execution_count": 61,
   "metadata": {},
   "outputs": [],
   "source": [
    "df_rec = wildlife.loc[(wildlife['Species'] == 'Mammals') | (wildlife['Species'] == 'Birds') | (wildlife['Species'] == 'Reptiles') & (wildlife['IUCN'] == 'THREATENED')].reset_index(drop=True)"
   ]
  },
  {
   "cell_type": "code",
   "execution_count": 62,
   "metadata": {},
   "outputs": [],
   "source": [
    "df_rec['Reptiles'] = (df_rec['Species'] == 'Reptiles').astype(int)\n",
    "df_rec['Mammals'] = (df_rec['Species'] == 'Mammals').astype(int)\n",
    "df_rec['Birds'] = (df_rec['Species'] == 'Birds').astype(int)"
   ]
  },
  {
   "cell_type": "code",
   "execution_count": 63,
   "metadata": {},
   "outputs": [
    {
     "name": "stdout",
     "output_type": "stream",
     "text": [
      "[2]\n"
     ]
    }
   ],
   "source": [
    "# convert dataframes to numpy arrays\n",
    "x = df_rec[['Reptiles', 'Mammals', 'Birds']].values\n",
    "x = np.nan_to_num(x, nan=0)\n",
    "y = df_rec[['Value']].values\n",
    "\n",
    "selected_indices = maximize_CFS(x, y)\n",
    "print(selected_indices)"
   ]
  },
  {
   "cell_type": "markdown",
   "metadata": {},
   "source": [
    "An output of [2] in the above code indicates that, according to the Correlation-based Feature Selection (CFS) algorithm, the optimal subset comprises only the `Birds` feature. This suggests that, under the criteria applied, 'Birds' provides the most valuable information for classifying the 'Value' variable."
   ]
  },
  {
   "cell_type": "code",
   "execution_count": 64,
   "metadata": {},
   "outputs": [
    {
     "data": {
      "text/plain": [
       "0.11914801353106631"
      ]
     },
     "execution_count": 64,
     "metadata": {},
     "output_type": "execute_result"
    }
   ],
   "source": [
    "z1 = df_rec['Birds'].values\n",
    "z1 = np.nan_to_num(x, nan=0)\n",
    "\n",
    "merit(z1,y)"
   ]
  },
  {
   "cell_type": "markdown",
   "metadata": {},
   "source": [
    "'Mammals' and 'Reptiles' are considered less informative for predicting 'Value' using this particular feature selection approach and correlation-based merit score.\n",
    "\n",
    "Additionally, a merit score of 0.119 indicates a positive correlation between the 'Birds' feature and 'Value,' indicating that ‘Birds’ contains relevant information for predicting the target variable."
   ]
  },
  {
   "cell_type": "markdown",
   "metadata": {},
   "source": [
    "### Feature Selection for Text Data"
   ]
  },
  {
   "cell_type": "code",
   "execution_count": 115,
   "metadata": {},
   "outputs": [],
   "source": [
    "import numpy as np\n",
    "from sklearn.feature_extraction.text import CountVectorizer\n",
    "\n",
    "# Define features and target variable \n",
    "X_train = train_data['text'].tolist()\n",
    "y_train = train_data['sentiment']"
   ]
  },
  {
   "cell_type": "code",
   "execution_count": 116,
   "metadata": {},
   "outputs": [
    {
     "data": {
      "text/plain": [
       "80     1\n",
       "464    1\n",
       "346   -1\n",
       "627    1\n",
       "371    1\n",
       "Name: sentiment, dtype: int64"
      ]
     },
     "execution_count": 116,
     "metadata": {},
     "output_type": "execute_result"
    }
   ],
   "source": [
    "# map the lables\n",
    "label_mapping = {'neutral': 0, 'negative': -1, 'positive': 1}\n",
    "\n",
    "y_train = y_train.map(label_mapping)\n",
    "\n",
    "y_train.head()"
   ]
  },
  {
   "cell_type": "code",
   "execution_count": 117,
   "metadata": {},
   "outputs": [
    {
     "data": {
      "text/html": [
       "<div>\n",
       "<style scoped>\n",
       "    .dataframe tbody tr th:only-of-type {\n",
       "        vertical-align: middle;\n",
       "    }\n",
       "\n",
       "    .dataframe tbody tr th {\n",
       "        vertical-align: top;\n",
       "    }\n",
       "\n",
       "    .dataframe thead th {\n",
       "        text-align: right;\n",
       "    }\n",
       "</style>\n",
       "<table border=\"1\" class=\"dataframe\">\n",
       "  <thead>\n",
       "    <tr style=\"text-align: right;\">\n",
       "      <th></th>\n",
       "      <th>0</th>\n",
       "      <th>1</th>\n",
       "      <th>2</th>\n",
       "      <th>3</th>\n",
       "      <th>4</th>\n",
       "      <th>5</th>\n",
       "      <th>6</th>\n",
       "      <th>7</th>\n",
       "      <th>8</th>\n",
       "      <th>9</th>\n",
       "      <th>...</th>\n",
       "      <th>7431</th>\n",
       "      <th>7432</th>\n",
       "      <th>7433</th>\n",
       "      <th>7434</th>\n",
       "      <th>7435</th>\n",
       "      <th>7436</th>\n",
       "      <th>7437</th>\n",
       "      <th>7438</th>\n",
       "      <th>7439</th>\n",
       "      <th>7440</th>\n",
       "    </tr>\n",
       "  </thead>\n",
       "  <tbody>\n",
       "    <tr>\n",
       "      <th>count</th>\n",
       "      <td>611.000000</td>\n",
       "      <td>611.000000</td>\n",
       "      <td>611.000000</td>\n",
       "      <td>611.000000</td>\n",
       "      <td>611.000000</td>\n",
       "      <td>611.000000</td>\n",
       "      <td>611.000000</td>\n",
       "      <td>611.000000</td>\n",
       "      <td>611.000000</td>\n",
       "      <td>611.000000</td>\n",
       "      <td>...</td>\n",
       "      <td>611.000000</td>\n",
       "      <td>611.000000</td>\n",
       "      <td>611.000000</td>\n",
       "      <td>611.000000</td>\n",
       "      <td>611.000000</td>\n",
       "      <td>611.000000</td>\n",
       "      <td>611.000000</td>\n",
       "      <td>611.000000</td>\n",
       "      <td>611.000000</td>\n",
       "      <td>611.000000</td>\n",
       "    </tr>\n",
       "    <tr>\n",
       "      <th>mean</th>\n",
       "      <td>0.001637</td>\n",
       "      <td>0.106383</td>\n",
       "      <td>0.001637</td>\n",
       "      <td>0.001637</td>\n",
       "      <td>0.001637</td>\n",
       "      <td>0.001637</td>\n",
       "      <td>0.003273</td>\n",
       "      <td>0.001637</td>\n",
       "      <td>0.001637</td>\n",
       "      <td>0.001637</td>\n",
       "      <td>...</td>\n",
       "      <td>0.001637</td>\n",
       "      <td>0.001637</td>\n",
       "      <td>0.001637</td>\n",
       "      <td>0.019640</td>\n",
       "      <td>0.003273</td>\n",
       "      <td>0.026187</td>\n",
       "      <td>0.001637</td>\n",
       "      <td>0.001637</td>\n",
       "      <td>0.003273</td>\n",
       "      <td>0.001637</td>\n",
       "    </tr>\n",
       "    <tr>\n",
       "      <th>std</th>\n",
       "      <td>0.040456</td>\n",
       "      <td>0.540317</td>\n",
       "      <td>0.040456</td>\n",
       "      <td>0.040456</td>\n",
       "      <td>0.040456</td>\n",
       "      <td>0.040456</td>\n",
       "      <td>0.057166</td>\n",
       "      <td>0.040456</td>\n",
       "      <td>0.040456</td>\n",
       "      <td>0.040456</td>\n",
       "      <td>...</td>\n",
       "      <td>0.040456</td>\n",
       "      <td>0.040456</td>\n",
       "      <td>0.040456</td>\n",
       "      <td>0.180001</td>\n",
       "      <td>0.057166</td>\n",
       "      <td>0.423841</td>\n",
       "      <td>0.040456</td>\n",
       "      <td>0.040456</td>\n",
       "      <td>0.057166</td>\n",
       "      <td>0.040456</td>\n",
       "    </tr>\n",
       "    <tr>\n",
       "      <th>min</th>\n",
       "      <td>0.000000</td>\n",
       "      <td>0.000000</td>\n",
       "      <td>0.000000</td>\n",
       "      <td>0.000000</td>\n",
       "      <td>0.000000</td>\n",
       "      <td>0.000000</td>\n",
       "      <td>0.000000</td>\n",
       "      <td>0.000000</td>\n",
       "      <td>0.000000</td>\n",
       "      <td>0.000000</td>\n",
       "      <td>...</td>\n",
       "      <td>0.000000</td>\n",
       "      <td>0.000000</td>\n",
       "      <td>0.000000</td>\n",
       "      <td>0.000000</td>\n",
       "      <td>0.000000</td>\n",
       "      <td>0.000000</td>\n",
       "      <td>0.000000</td>\n",
       "      <td>0.000000</td>\n",
       "      <td>0.000000</td>\n",
       "      <td>0.000000</td>\n",
       "    </tr>\n",
       "    <tr>\n",
       "      <th>25%</th>\n",
       "      <td>0.000000</td>\n",
       "      <td>0.000000</td>\n",
       "      <td>0.000000</td>\n",
       "      <td>0.000000</td>\n",
       "      <td>0.000000</td>\n",
       "      <td>0.000000</td>\n",
       "      <td>0.000000</td>\n",
       "      <td>0.000000</td>\n",
       "      <td>0.000000</td>\n",
       "      <td>0.000000</td>\n",
       "      <td>...</td>\n",
       "      <td>0.000000</td>\n",
       "      <td>0.000000</td>\n",
       "      <td>0.000000</td>\n",
       "      <td>0.000000</td>\n",
       "      <td>0.000000</td>\n",
       "      <td>0.000000</td>\n",
       "      <td>0.000000</td>\n",
       "      <td>0.000000</td>\n",
       "      <td>0.000000</td>\n",
       "      <td>0.000000</td>\n",
       "    </tr>\n",
       "    <tr>\n",
       "      <th>50%</th>\n",
       "      <td>0.000000</td>\n",
       "      <td>0.000000</td>\n",
       "      <td>0.000000</td>\n",
       "      <td>0.000000</td>\n",
       "      <td>0.000000</td>\n",
       "      <td>0.000000</td>\n",
       "      <td>0.000000</td>\n",
       "      <td>0.000000</td>\n",
       "      <td>0.000000</td>\n",
       "      <td>0.000000</td>\n",
       "      <td>...</td>\n",
       "      <td>0.000000</td>\n",
       "      <td>0.000000</td>\n",
       "      <td>0.000000</td>\n",
       "      <td>0.000000</td>\n",
       "      <td>0.000000</td>\n",
       "      <td>0.000000</td>\n",
       "      <td>0.000000</td>\n",
       "      <td>0.000000</td>\n",
       "      <td>0.000000</td>\n",
       "      <td>0.000000</td>\n",
       "    </tr>\n",
       "    <tr>\n",
       "      <th>75%</th>\n",
       "      <td>0.000000</td>\n",
       "      <td>0.000000</td>\n",
       "      <td>0.000000</td>\n",
       "      <td>0.000000</td>\n",
       "      <td>0.000000</td>\n",
       "      <td>0.000000</td>\n",
       "      <td>0.000000</td>\n",
       "      <td>0.000000</td>\n",
       "      <td>0.000000</td>\n",
       "      <td>0.000000</td>\n",
       "      <td>...</td>\n",
       "      <td>0.000000</td>\n",
       "      <td>0.000000</td>\n",
       "      <td>0.000000</td>\n",
       "      <td>0.000000</td>\n",
       "      <td>0.000000</td>\n",
       "      <td>0.000000</td>\n",
       "      <td>0.000000</td>\n",
       "      <td>0.000000</td>\n",
       "      <td>0.000000</td>\n",
       "      <td>0.000000</td>\n",
       "    </tr>\n",
       "    <tr>\n",
       "      <th>max</th>\n",
       "      <td>1.000000</td>\n",
       "      <td>6.000000</td>\n",
       "      <td>1.000000</td>\n",
       "      <td>1.000000</td>\n",
       "      <td>1.000000</td>\n",
       "      <td>1.000000</td>\n",
       "      <td>1.000000</td>\n",
       "      <td>1.000000</td>\n",
       "      <td>1.000000</td>\n",
       "      <td>1.000000</td>\n",
       "      <td>...</td>\n",
       "      <td>1.000000</td>\n",
       "      <td>1.000000</td>\n",
       "      <td>1.000000</td>\n",
       "      <td>3.000000</td>\n",
       "      <td>1.000000</td>\n",
       "      <td>10.000000</td>\n",
       "      <td>1.000000</td>\n",
       "      <td>1.000000</td>\n",
       "      <td>1.000000</td>\n",
       "      <td>1.000000</td>\n",
       "    </tr>\n",
       "  </tbody>\n",
       "</table>\n",
       "<p>8 rows × 7441 columns</p>\n",
       "</div>"
      ],
      "text/plain": [
       "             0           1           2           3           4           5     \\\n",
       "count  611.000000  611.000000  611.000000  611.000000  611.000000  611.000000   \n",
       "mean     0.001637    0.106383    0.001637    0.001637    0.001637    0.001637   \n",
       "std      0.040456    0.540317    0.040456    0.040456    0.040456    0.040456   \n",
       "min      0.000000    0.000000    0.000000    0.000000    0.000000    0.000000   \n",
       "25%      0.000000    0.000000    0.000000    0.000000    0.000000    0.000000   \n",
       "50%      0.000000    0.000000    0.000000    0.000000    0.000000    0.000000   \n",
       "75%      0.000000    0.000000    0.000000    0.000000    0.000000    0.000000   \n",
       "max      1.000000    6.000000    1.000000    1.000000    1.000000    1.000000   \n",
       "\n",
       "             6           7           8           9     ...        7431  \\\n",
       "count  611.000000  611.000000  611.000000  611.000000  ...  611.000000   \n",
       "mean     0.003273    0.001637    0.001637    0.001637  ...    0.001637   \n",
       "std      0.057166    0.040456    0.040456    0.040456  ...    0.040456   \n",
       "min      0.000000    0.000000    0.000000    0.000000  ...    0.000000   \n",
       "25%      0.000000    0.000000    0.000000    0.000000  ...    0.000000   \n",
       "50%      0.000000    0.000000    0.000000    0.000000  ...    0.000000   \n",
       "75%      0.000000    0.000000    0.000000    0.000000  ...    0.000000   \n",
       "max      1.000000    1.000000    1.000000    1.000000  ...    1.000000   \n",
       "\n",
       "             7432        7433        7434        7435        7436        7437  \\\n",
       "count  611.000000  611.000000  611.000000  611.000000  611.000000  611.000000   \n",
       "mean     0.001637    0.001637    0.019640    0.003273    0.026187    0.001637   \n",
       "std      0.040456    0.040456    0.180001    0.057166    0.423841    0.040456   \n",
       "min      0.000000    0.000000    0.000000    0.000000    0.000000    0.000000   \n",
       "25%      0.000000    0.000000    0.000000    0.000000    0.000000    0.000000   \n",
       "50%      0.000000    0.000000    0.000000    0.000000    0.000000    0.000000   \n",
       "75%      0.000000    0.000000    0.000000    0.000000    0.000000    0.000000   \n",
       "max      1.000000    1.000000    3.000000    1.000000   10.000000    1.000000   \n",
       "\n",
       "             7438        7439        7440  \n",
       "count  611.000000  611.000000  611.000000  \n",
       "mean     0.001637    0.003273    0.001637  \n",
       "std      0.040456    0.057166    0.040456  \n",
       "min      0.000000    0.000000    0.000000  \n",
       "25%      0.000000    0.000000    0.000000  \n",
       "50%      0.000000    0.000000    0.000000  \n",
       "75%      0.000000    0.000000    0.000000  \n",
       "max      1.000000    1.000000    1.000000  \n",
       "\n",
       "[8 rows x 7441 columns]"
      ]
     },
     "execution_count": 117,
     "metadata": {},
     "output_type": "execute_result"
    }
   ],
   "source": [
    "from sklearn.feature_extraction.text import CountVectorizer\n",
    "from sklearn.naive_bayes import MultinomialNB\n",
    "from sklearn.metrics import accuracy_score\n",
    "\n",
    "# initialize the CountVectorizer\n",
    "vectorizer = CountVectorizer()\n",
    "\n",
    "# fit and transform the text data\n",
    "X_train_vectorized = vectorizer.fit_transform(X_train)\n",
    "\n",
    "# convert text data to numerical features using CountVectorizer\n",
    "vectorizer = CountVectorizer()\n",
    "X_train_vectorized = vectorizer.fit_transform(X_train)\n",
    "\n",
    "# convert the vectorized training data into a dataframe\n",
    "df = pd.DataFrame(X_train_vectorized.toarray())\n",
    "\n",
    "df.describe()"
   ]
  },
  {
   "cell_type": "code",
   "execution_count": 118,
   "metadata": {},
   "outputs": [
    {
     "data": {
      "text/html": [
       "<div>\n",
       "<style scoped>\n",
       "    .dataframe tbody tr th:only-of-type {\n",
       "        vertical-align: middle;\n",
       "    }\n",
       "\n",
       "    .dataframe tbody tr th {\n",
       "        vertical-align: top;\n",
       "    }\n",
       "\n",
       "    .dataframe thead th {\n",
       "        text-align: right;\n",
       "    }\n",
       "</style>\n",
       "<table border=\"1\" class=\"dataframe\">\n",
       "  <thead>\n",
       "    <tr style=\"text-align: right;\">\n",
       "      <th></th>\n",
       "      <th>0</th>\n",
       "      <th>1</th>\n",
       "      <th>2</th>\n",
       "      <th>3</th>\n",
       "      <th>4</th>\n",
       "      <th>5</th>\n",
       "      <th>6</th>\n",
       "      <th>7</th>\n",
       "      <th>8</th>\n",
       "      <th>9</th>\n",
       "      <th>...</th>\n",
       "      <th>7431</th>\n",
       "      <th>7432</th>\n",
       "      <th>7433</th>\n",
       "      <th>7434</th>\n",
       "      <th>7435</th>\n",
       "      <th>7436</th>\n",
       "      <th>7437</th>\n",
       "      <th>7438</th>\n",
       "      <th>7439</th>\n",
       "      <th>7440</th>\n",
       "    </tr>\n",
       "  </thead>\n",
       "  <tbody>\n",
       "    <tr>\n",
       "      <th>0</th>\n",
       "      <td>0</td>\n",
       "      <td>0</td>\n",
       "      <td>0</td>\n",
       "      <td>0</td>\n",
       "      <td>0</td>\n",
       "      <td>0</td>\n",
       "      <td>0</td>\n",
       "      <td>0</td>\n",
       "      <td>0</td>\n",
       "      <td>0</td>\n",
       "      <td>...</td>\n",
       "      <td>0</td>\n",
       "      <td>0</td>\n",
       "      <td>0</td>\n",
       "      <td>0</td>\n",
       "      <td>0</td>\n",
       "      <td>0</td>\n",
       "      <td>0</td>\n",
       "      <td>0</td>\n",
       "      <td>0</td>\n",
       "      <td>0</td>\n",
       "    </tr>\n",
       "    <tr>\n",
       "      <th>1</th>\n",
       "      <td>0</td>\n",
       "      <td>0</td>\n",
       "      <td>0</td>\n",
       "      <td>0</td>\n",
       "      <td>0</td>\n",
       "      <td>0</td>\n",
       "      <td>0</td>\n",
       "      <td>0</td>\n",
       "      <td>0</td>\n",
       "      <td>0</td>\n",
       "      <td>...</td>\n",
       "      <td>0</td>\n",
       "      <td>0</td>\n",
       "      <td>0</td>\n",
       "      <td>0</td>\n",
       "      <td>0</td>\n",
       "      <td>0</td>\n",
       "      <td>0</td>\n",
       "      <td>0</td>\n",
       "      <td>0</td>\n",
       "      <td>0</td>\n",
       "    </tr>\n",
       "    <tr>\n",
       "      <th>2</th>\n",
       "      <td>0</td>\n",
       "      <td>0</td>\n",
       "      <td>0</td>\n",
       "      <td>0</td>\n",
       "      <td>0</td>\n",
       "      <td>0</td>\n",
       "      <td>0</td>\n",
       "      <td>0</td>\n",
       "      <td>0</td>\n",
       "      <td>0</td>\n",
       "      <td>...</td>\n",
       "      <td>0</td>\n",
       "      <td>0</td>\n",
       "      <td>0</td>\n",
       "      <td>0</td>\n",
       "      <td>0</td>\n",
       "      <td>0</td>\n",
       "      <td>0</td>\n",
       "      <td>0</td>\n",
       "      <td>0</td>\n",
       "      <td>0</td>\n",
       "    </tr>\n",
       "    <tr>\n",
       "      <th>3</th>\n",
       "      <td>0</td>\n",
       "      <td>0</td>\n",
       "      <td>0</td>\n",
       "      <td>0</td>\n",
       "      <td>0</td>\n",
       "      <td>0</td>\n",
       "      <td>0</td>\n",
       "      <td>0</td>\n",
       "      <td>0</td>\n",
       "      <td>0</td>\n",
       "      <td>...</td>\n",
       "      <td>0</td>\n",
       "      <td>0</td>\n",
       "      <td>0</td>\n",
       "      <td>0</td>\n",
       "      <td>0</td>\n",
       "      <td>0</td>\n",
       "      <td>0</td>\n",
       "      <td>0</td>\n",
       "      <td>0</td>\n",
       "      <td>0</td>\n",
       "    </tr>\n",
       "    <tr>\n",
       "      <th>4</th>\n",
       "      <td>0</td>\n",
       "      <td>0</td>\n",
       "      <td>0</td>\n",
       "      <td>0</td>\n",
       "      <td>0</td>\n",
       "      <td>0</td>\n",
       "      <td>0</td>\n",
       "      <td>0</td>\n",
       "      <td>0</td>\n",
       "      <td>0</td>\n",
       "      <td>...</td>\n",
       "      <td>0</td>\n",
       "      <td>0</td>\n",
       "      <td>0</td>\n",
       "      <td>0</td>\n",
       "      <td>0</td>\n",
       "      <td>0</td>\n",
       "      <td>0</td>\n",
       "      <td>0</td>\n",
       "      <td>0</td>\n",
       "      <td>0</td>\n",
       "    </tr>\n",
       "  </tbody>\n",
       "</table>\n",
       "<p>5 rows × 7441 columns</p>\n",
       "</div>"
      ],
      "text/plain": [
       "   0     1     2     3     4     5     6     7     8     9     ...  7431  \\\n",
       "0     0     0     0     0     0     0     0     0     0     0  ...     0   \n",
       "1     0     0     0     0     0     0     0     0     0     0  ...     0   \n",
       "2     0     0     0     0     0     0     0     0     0     0  ...     0   \n",
       "3     0     0     0     0     0     0     0     0     0     0  ...     0   \n",
       "4     0     0     0     0     0     0     0     0     0     0  ...     0   \n",
       "\n",
       "   7432  7433  7434  7435  7436  7437  7438  7439  7440  \n",
       "0     0     0     0     0     0     0     0     0     0  \n",
       "1     0     0     0     0     0     0     0     0     0  \n",
       "2     0     0     0     0     0     0     0     0     0  \n",
       "3     0     0     0     0     0     0     0     0     0  \n",
       "4     0     0     0     0     0     0     0     0     0  \n",
       "\n",
       "[5 rows x 7441 columns]"
      ]
     },
     "execution_count": 118,
     "metadata": {},
     "output_type": "execute_result"
    }
   ],
   "source": [
    "df.head()"
   ]
  },
  {
   "cell_type": "code",
   "execution_count": 134,
   "metadata": {},
   "outputs": [
    {
     "data": {
      "text/html": [
       "<div>\n",
       "<style scoped>\n",
       "    .dataframe tbody tr th:only-of-type {\n",
       "        vertical-align: middle;\n",
       "    }\n",
       "\n",
       "    .dataframe tbody tr th {\n",
       "        vertical-align: top;\n",
       "    }\n",
       "\n",
       "    .dataframe thead th {\n",
       "        text-align: right;\n",
       "    }\n",
       "</style>\n",
       "<table border=\"1\" class=\"dataframe\">\n",
       "  <thead>\n",
       "    <tr style=\"text-align: right;\">\n",
       "      <th></th>\n",
       "      <th>595</th>\n",
       "      <th>765</th>\n",
       "      <th>1389</th>\n",
       "      <th>1490</th>\n",
       "      <th>1582</th>\n",
       "      <th>1934</th>\n",
       "      <th>2572</th>\n",
       "      <th>2622</th>\n",
       "      <th>3276</th>\n",
       "      <th>6375</th>\n",
       "      <th>6447</th>\n",
       "      <th>7043</th>\n",
       "      <th>7243</th>\n",
       "      <th>7409</th>\n",
       "    </tr>\n",
       "  </thead>\n",
       "  <tbody>\n",
       "    <tr>\n",
       "      <th>0</th>\n",
       "      <td>0</td>\n",
       "      <td>0</td>\n",
       "      <td>0</td>\n",
       "      <td>1</td>\n",
       "      <td>1</td>\n",
       "      <td>0</td>\n",
       "      <td>0</td>\n",
       "      <td>1</td>\n",
       "      <td>0</td>\n",
       "      <td>2</td>\n",
       "      <td>1</td>\n",
       "      <td>0</td>\n",
       "      <td>0</td>\n",
       "      <td>0</td>\n",
       "    </tr>\n",
       "    <tr>\n",
       "      <th>1</th>\n",
       "      <td>0</td>\n",
       "      <td>0</td>\n",
       "      <td>0</td>\n",
       "      <td>1</td>\n",
       "      <td>0</td>\n",
       "      <td>0</td>\n",
       "      <td>0</td>\n",
       "      <td>4</td>\n",
       "      <td>0</td>\n",
       "      <td>0</td>\n",
       "      <td>0</td>\n",
       "      <td>0</td>\n",
       "      <td>0</td>\n",
       "      <td>0</td>\n",
       "    </tr>\n",
       "    <tr>\n",
       "      <th>2</th>\n",
       "      <td>0</td>\n",
       "      <td>0</td>\n",
       "      <td>0</td>\n",
       "      <td>5</td>\n",
       "      <td>10</td>\n",
       "      <td>0</td>\n",
       "      <td>0</td>\n",
       "      <td>1</td>\n",
       "      <td>1</td>\n",
       "      <td>0</td>\n",
       "      <td>0</td>\n",
       "      <td>0</td>\n",
       "      <td>0</td>\n",
       "      <td>1</td>\n",
       "    </tr>\n",
       "    <tr>\n",
       "      <th>3</th>\n",
       "      <td>0</td>\n",
       "      <td>0</td>\n",
       "      <td>0</td>\n",
       "      <td>0</td>\n",
       "      <td>1</td>\n",
       "      <td>0</td>\n",
       "      <td>0</td>\n",
       "      <td>0</td>\n",
       "      <td>0</td>\n",
       "      <td>0</td>\n",
       "      <td>0</td>\n",
       "      <td>0</td>\n",
       "      <td>0</td>\n",
       "      <td>0</td>\n",
       "    </tr>\n",
       "    <tr>\n",
       "      <th>4</th>\n",
       "      <td>0</td>\n",
       "      <td>0</td>\n",
       "      <td>0</td>\n",
       "      <td>0</td>\n",
       "      <td>0</td>\n",
       "      <td>4</td>\n",
       "      <td>3</td>\n",
       "      <td>0</td>\n",
       "      <td>0</td>\n",
       "      <td>0</td>\n",
       "      <td>3</td>\n",
       "      <td>3</td>\n",
       "      <td>0</td>\n",
       "      <td>0</td>\n",
       "    </tr>\n",
       "  </tbody>\n",
       "</table>\n",
       "</div>"
      ],
      "text/plain": [
       "   595   765   1389  1490  1582  1934  2572  2622  3276  6375  6447  7043  \\\n",
       "0     0     0     0     1     1     0     0     1     0     2     1     0   \n",
       "1     0     0     0     1     0     0     0     4     0     0     0     0   \n",
       "2     0     0     0     5    10     0     0     1     1     0     0     0   \n",
       "3     0     0     0     0     1     0     0     0     0     0     0     0   \n",
       "4     0     0     0     0     0     4     3     0     0     0     3     3   \n",
       "\n",
       "   7243  7409  \n",
       "0     0     0  \n",
       "1     0     0  \n",
       "2     0     1  \n",
       "3     0     0  \n",
       "4     0     0  "
      ]
     },
     "execution_count": 134,
     "metadata": {},
     "output_type": "execute_result"
    }
   ],
   "source": [
    "# Since iterating every possible combination of subsets is time consuming, let's reduce the number of features\n",
    "# let's calculate the sum of each column\n",
    "column_sums = df.sum()\n",
    "\n",
    "# find columns where the sum is 130 or less\n",
    "columns_to_remove = column_sums[column_sums < 140].index\n",
    "\n",
    "# remove the selected columns from the DataFrame\n",
    "df = df.drop(columns=columns_to_remove)\n",
    "\n",
    "df.head()"
   ]
  },
  {
   "cell_type": "markdown",
   "metadata": {},
   "source": [
    "The features has been reduced from approximately 14 columns to 5 columns. "
   ]
  },
  {
   "cell_type": "code",
   "execution_count": 135,
   "metadata": {},
   "outputs": [
    {
     "name": "stdout",
     "output_type": "stream",
     "text": [
      "[7]\n"
     ]
    }
   ],
   "source": [
    "# the df got much smaller and more managable\n",
    "\n",
    "#convert to arrays\n",
    "x = df.values\n",
    "y = y_train.values\n",
    "\n",
    "optimal_subset_indices = maximize_CFS(x, y)\n",
    "\n",
    "print(optimal_subset_indices)"
   ]
  },
  {
   "cell_type": "code",
   "execution_count": 136,
   "metadata": {},
   "outputs": [
    {
     "data": {
      "text/plain": [
       "0    1\n",
       "1    4\n",
       "2    1\n",
       "3    0\n",
       "4    0\n",
       "Name: 2622, dtype: int64"
      ]
     },
     "execution_count": 136,
     "metadata": {},
     "output_type": "execute_result"
    }
   ],
   "source": [
    "x_opt = df.iloc[:, 7]\n",
    "x_opt.head()"
   ]
  },
  {
   "cell_type": "code",
   "execution_count": 137,
   "metadata": {},
   "outputs": [
    {
     "name": "stdout",
     "output_type": "stream",
     "text": [
      "Word at column 2622: energy\n"
     ]
    }
   ],
   "source": [
    "word_index = 2622 # the column index I want\n",
    "\n",
    "vocabulary = vectorizer.vocabulary_\n",
    "\n",
    "word = next(word for word, index in vocabulary.items() if index == word_index)\n",
    "\n",
    "print(\"Word at column 2622:\", word)"
   ]
  },
  {
   "cell_type": "markdown",
   "metadata": {},
   "source": [
    "## Naïve Bayes with Labeled Record Data"
   ]
  },
  {
   "cell_type": "code",
   "execution_count": 40,
   "metadata": {},
   "outputs": [],
   "source": [
    "new_li = []\n",
    "\n",
    "for item in df.IUCN.tolist():\n",
    "    if item == 'THREATENED':\n",
    "        new_li.append('THREATENED')\n",
    "    elif (item == 'TOT_KNOWN') or (item == 'THREAT_PERCENT'):\n",
    "        new_li.append(np.nan)\n",
    "    else:\n",
    "        new_li.append('OTHER')"
   ]
  },
  {
   "cell_type": "code",
   "execution_count": 41,
   "metadata": {},
   "outputs": [
    {
     "name": "stderr",
     "output_type": "stream",
     "text": [
      "/var/folders/1z/6nvrnkz13ms1y39fh2328y7m0000gn/T/ipykernel_2209/2065111713.py:1: SettingWithCopyWarning: \n",
      "A value is trying to be set on a copy of a slice from a DataFrame.\n",
      "Try using .loc[row_indexer,col_indexer] = value instead\n",
      "\n",
      "See the caveats in the documentation: https://pandas.pydata.org/pandas-docs/stable/user_guide/indexing.html#returning-a-view-versus-a-copy\n",
      "  df.IUCN = new_li\n"
     ]
    }
   ],
   "source": [
    "df.IUCN = new_li"
   ]
  },
  {
   "cell_type": "code",
   "execution_count": 42,
   "metadata": {},
   "outputs": [],
   "source": [
    "df = df.dropna().reset_index(drop = True)"
   ]
  },
  {
   "cell_type": "code",
   "execution_count": 43,
   "metadata": {},
   "outputs": [],
   "source": [
    "df.IUCN = df.IUCN.astype('category')\n",
    "df.Species = df.Species.astype('category')\n",
    "df.Country = df.Country.astype('category')"
   ]
  },
  {
   "cell_type": "code",
   "execution_count": 44,
   "metadata": {},
   "outputs": [],
   "source": [
    "from sklearn.preprocessing  import OneHotEncoder\n",
    "\n",
    "encoder = OneHotEncoder(handle_unknown='ignore')\n",
    "\n",
    "encoded_data = encoder.fit_transform(df[['Species']])\n",
    "\n",
    "# onvert the encoded data to a Pandas DataFrame\n",
    "encoded_df = pd.DataFrame(encoded_data.toarray(), columns=encoder.get_feature_names_out(['Species']))"
   ]
  },
  {
   "cell_type": "code",
   "execution_count": 23,
   "metadata": {},
   "outputs": [],
   "source": [
    "# see if the result is threatened if we put Species, Country, Value\n",
    "df2 = pd.concat([df[['IUCN','Value']],encoded_df], axis =1, ignore_index= True)\n",
    "df2.columns = ['IUCN','Value'] + encoder.get_feature_names_out(['Species']).tolist()\n",
    "y = df2.IUCN\n",
    "x = df2.drop(['IUCN'], axis = 1)"
   ]
  },
  {
   "cell_type": "code",
   "execution_count": 24,
   "metadata": {},
   "outputs": [],
   "source": [
    "train_x, test_x, train_y, test_y = train_test_split(x,y)"
   ]
  },
  {
   "cell_type": "code",
   "execution_count": 25,
   "metadata": {},
   "outputs": [],
   "source": [
    "model = GaussianNB()\n",
    "# train\n",
    "model.fit(train_x,train_y) \n",
    "\n",
    "predicted = model.predict(test_x) \n",
    "res = pd.DataFrame({'predicted': predicted, 'actual': test_y}).reset_index(drop = True)"
   ]
  },
  {
   "cell_type": "code",
   "execution_count": 26,
   "metadata": {},
   "outputs": [
    {
     "name": "stdout",
     "output_type": "stream",
     "text": [
      "The accuracy rate for NB is: 0.72\n"
     ]
    }
   ],
   "source": [
    "xx = 0\n",
    "\n",
    "for i in range(res.shape[0]):\n",
    "    if res.predicted[i] == res.actual[i]:\n",
    "        xx += 1\n",
    "    else: pass\n",
    "\n",
    "print(f'The accuracy rate for NB is: {round(xx/res.shape[0],2)}') # divide to the size of test"
   ]
  },
  {
   "cell_type": "markdown",
   "metadata": {},
   "source": [
    "### Confusion Matrix for Record Data"
   ]
  },
  {
   "cell_type": "code",
   "execution_count": 27,
   "metadata": {},
   "outputs": [
    {
     "data": {
      "text/plain": [
       "<sklearn.metrics._plot.confusion_matrix.ConfusionMatrixDisplay at 0x12d2e27d0>"
      ]
     },
     "execution_count": 27,
     "metadata": {},
     "output_type": "execute_result"
    },
    {
     "data": {
      "image/png": "[encoded data removed]",
      "text/plain": [
       "<Figure size 640x480 with 2 Axes>"
      ]
     },
     "metadata": {},
     "output_type": "display_data"
    }
   ],
   "source": [
    "from sklearn.metrics import confusion_matrix, ConfusionMatrixDisplay\n",
    "\n",
    "cm = confusion_matrix(res.actual.tolist(), res.predicted.tolist(), labels=model.classes_)\n",
    "disp = ConfusionMatrixDisplay(confusion_matrix= cm, display_labels= model.classes_)\n",
    "disp.plot()"
   ]
  },
  {
   "cell_type": "code",
   "execution_count": 28,
   "metadata": {},
   "outputs": [
    {
     "name": "stdout",
     "output_type": "stream",
     "text": [
      "Accuracy: 0.7186544342507645\n",
      "              precision    recall  f1-score   support\n",
      "\n",
      "       OTHER       0.74      0.95      0.83       242\n",
      "  THREATENED       0.29      0.06      0.10        85\n",
      "\n",
      "    accuracy                           0.72       327\n",
      "   macro avg       0.52      0.50      0.47       327\n",
      "weighted avg       0.63      0.72      0.64       327\n",
      "\n"
     ]
    }
   ],
   "source": [
    "from sklearn.metrics import accuracy_score, classification_report\n",
    "\n",
    "accuracy = accuracy_score(test_y, res.predicted)\n",
    "report = classification_report(test_y, res.predicted)\n",
    "\n",
    "print(f'Accuracy: {accuracy}')\n",
    "print(report)"
   ]
  },
  {
   "cell_type": "markdown",
   "metadata": {},
   "source": [
    "## Naïve Bayes with Labeled Text Data"
   ]
  },
  {
   "cell_type": "code",
   "execution_count": 138,
   "metadata": {},
   "outputs": [
    {
     "data": {
      "text/html": [
       "<div>\n",
       "<style scoped>\n",
       "    .dataframe tbody tr th:only-of-type {\n",
       "        vertical-align: middle;\n",
       "    }\n",
       "\n",
       "    .dataframe tbody tr th {\n",
       "        vertical-align: top;\n",
       "    }\n",
       "\n",
       "    .dataframe thead th {\n",
       "        text-align: right;\n",
       "    }\n",
       "</style>\n",
       "<table border=\"1\" class=\"dataframe\">\n",
       "  <thead>\n",
       "    <tr style=\"text-align: right;\">\n",
       "      <th></th>\n",
       "      <th>text</th>\n",
       "      <th>sentiment</th>\n",
       "    </tr>\n",
       "  </thead>\n",
       "  <tbody>\n",
       "    <tr>\n",
       "      <th>512</th>\n",
       "      <td>human ecosystem vulnerability interdependent 1...</td>\n",
       "      <td>negative</td>\n",
       "    </tr>\n",
       "    <tr>\n",
       "      <th>357</th>\n",
       "      <td>plan compiled made part bali action plan un ra...</td>\n",
       "      <td>neutral</td>\n",
       "    </tr>\n",
       "    <tr>\n",
       "      <th>110</th>\n",
       "      <td>christopher columbus began exploring caribbean...</td>\n",
       "      <td>negative</td>\n",
       "    </tr>\n",
       "    <tr>\n",
       "      <th>684</th>\n",
       "      <td>2007 harris interactive surveyed 489 randomly ...</td>\n",
       "      <td>negative</td>\n",
       "    </tr>\n",
       "    <tr>\n",
       "      <th>39</th>\n",
       "      <td>kuno wildlife sanctuary established 1981 initi...</td>\n",
       "      <td>neutral</td>\n",
       "    </tr>\n",
       "  </tbody>\n",
       "</table>\n",
       "</div>"
      ],
      "text/plain": [
       "                                                  text sentiment\n",
       "512  human ecosystem vulnerability interdependent 1...  negative\n",
       "357  plan compiled made part bali action plan un ra...   neutral\n",
       "110  christopher columbus began exploring caribbean...  negative\n",
       "684  2007 harris interactive surveyed 489 randomly ...  negative\n",
       "39   kuno wildlife sanctuary established 1981 initi...   neutral"
      ]
     },
     "execution_count": 138,
     "metadata": {},
     "output_type": "execute_result"
    }
   ],
   "source": [
    "test_data.head()"
   ]
  },
  {
   "cell_type": "code",
   "execution_count": 139,
   "metadata": {},
   "outputs": [
    {
     "data": {
      "text/plain": [
       "512    human ecosystem vulnerability interdependent 1...\n",
       "357    plan compiled made part bali action plan un ra...\n",
       "110    christopher columbus began exploring caribbean...\n",
       "684    2007 harris interactive surveyed 489 randomly ...\n",
       "39     kuno wildlife sanctuary established 1981 initi...\n",
       "Name: text, dtype: object"
      ]
     },
     "execution_count": 139,
     "metadata": {},
     "output_type": "execute_result"
    }
   ],
   "source": [
    "# let's separate our feature(s) from our target variable\n",
    "X_test = test_data['text']\n",
    "y_test = test_data['sentiment']\n",
    "X_test.head()"
   ]
  },
  {
   "cell_type": "code",
   "execution_count": 144,
   "metadata": {},
   "outputs": [
    {
     "data": {
      "text/plain": [
       "512    0\n",
       "357    0\n",
       "110    0\n",
       "684    0\n",
       "39     0\n",
       "Name: text, dtype: int64"
      ]
     },
     "execution_count": 144,
     "metadata": {},
     "output_type": "execute_result"
    }
   ],
   "source": [
    "# create a new column 'energy_count'\n",
    "X_test_energy = X_test.str.lower().str.count('energy')\n",
    "X_test_energy.head()"
   ]
  },
  {
   "cell_type": "code",
   "execution_count": 145,
   "metadata": {},
   "outputs": [
    {
     "data": {
      "text/plain": [
       "512   -1\n",
       "357    0\n",
       "110   -1\n",
       "684   -1\n",
       "39     0\n",
       "Name: sentiment, dtype: int64"
      ]
     },
     "execution_count": 145,
     "metadata": {},
     "output_type": "execute_result"
    }
   ],
   "source": [
    "# Define a dictionary to map labels to numeric values\n",
    "label_mapping = {'neutral': 0, 'negative': -1, 'positive': 1}\n",
    "y_test = test_data['sentiment'].map(label_mapping)\n",
    "\n",
    "y_test.head()"
   ]
  },
  {
   "cell_type": "code",
   "execution_count": 146,
   "metadata": {},
   "outputs": [
    {
     "name": "stdout",
     "output_type": "stream",
     "text": [
      "Accuracy of the Naive Bayes model: 0.43529411764705883\n"
     ]
    }
   ],
   "source": [
    "import pandas as pd\n",
    "from sklearn.naive_bayes import CategoricalNB\n",
    "from sklearn.metrics import accuracy_score\n",
    "\n",
    "# Convert features to a DataFrame\n",
    "news_training_x = pd.Series(x_opt, name='x')\n",
    "news_training_y = y_train\n",
    "news_test_x = pd.Series(X_test_energy, name='x')\n",
    "news_test_y = y_test\n",
    "\n",
    "# Create a training DataFrame\n",
    "training_df = pd.DataFrame({'x': news_training_x, 'y': news_training_y})\n",
    "\n",
    "# Create a test DataFrame\n",
    "test_df = pd.DataFrame({'x': news_test_x, 'y': news_test_y})\n",
    "\n",
    "# Create a Naive Bayes model\n",
    "nb_model = CategoricalNB()\n",
    "\n",
    "# Remove rows with NaN values\n",
    "training_df.dropna(subset=['x'], inplace=True)\n",
    "test_df.dropna(subset=['x'], inplace=True)\n",
    "\n",
    "# Remove rows with NaN values in the target variable 'y'\n",
    "training_df.dropna(subset=['y'], inplace=True)\n",
    "test_df.dropna(subset=['y'], inplace=True)\n",
    "\n",
    "# Now, let's fit the model\n",
    "nb_model.fit(training_df[['x']], training_df['y'])\n",
    "\n",
    "# Make predictions on the validation set\n",
    "validation_predictions = nb_model.predict(test_df[['x']])\n",
    "\n",
    "# and we can finally assess the accuracy of the model\n",
    "accuracy = accuracy_score(test_df['y'], validation_predictions)\n",
    "print(\"Accuracy of the Naive Bayes model:\", accuracy)"
   ]
  },
  {
   "cell_type": "markdown",
   "metadata": {},
   "source": [
    "### Confusion Matrix for Text Data"
   ]
  },
  {
   "cell_type": "code",
   "execution_count": 148,
   "metadata": {},
   "outputs": [
    {
     "name": "stdout",
     "output_type": "stream",
     "text": [
      "Confusion Matrix:\n",
      "[[ 1  1  4]\n",
      " [ 0  0  0]\n",
      " [56 35 73]]\n"
     ]
    }
   ],
   "source": [
    "from sklearn.metrics import confusion_matrix\n",
    "\n",
    "# Create a confusion matrix\n",
    "conf_matrix = confusion_matrix(validation_predictions, test_df['y'])\n",
    "\n",
    "# Print the confusion matrix\n",
    "print(\"Confusion Matrix:\")\n",
    "print(conf_matrix)"
   ]
  },
  {
   "cell_type": "code",
   "execution_count": 152,
   "metadata": {},
   "outputs": [
    {
     "data": {
      "image/png": "[encoded data removed]",
      "text/plain": [
       "<Figure size 800x600 with 1 Axes>"
      ]
     },
     "metadata": {},
     "output_type": "display_data"
    }
   ],
   "source": [
    "# another way to create a confusion matrix\n",
    "import seaborn as sns\n",
    "import matplotlib.pyplot as plt\n",
    "\n",
    "# seaborn heatmap\n",
    "plt.figure(figsize=(8, 6))\n",
    "sns.heatmap(conf_matrix, annot=True, fmt='d', cmap='viridis', linewidths=0.5, cbar=False,\n",
    "            xticklabels=['Negative', 'Neutral', 'Positive'], yticklabels=['Negative', 'Neutral', 'Positive'])\n",
    "\n",
    "plt.xlabel('Actual')\n",
    "plt.ylabel('Predicted')\n",
    "plt.title('Confusion Matrix')\n",
    "\n",
    "plt.show()"
   ]
  },
  {
   "cell_type": "markdown",
   "metadata": {},
   "source": [
    "## Conclusion\n",
    "\n",
    "As demonstrated by the initial matrix, the subsequent table, and the confusion matrix crafted with Seaborn, we can see that the performance of the Naive Bayes model appears to be relatively poor than training the record data. The model’s accuracy reached 43%, but it is important to know that it consistently predicted the positive label values. This outcome tells us that the naive bayes classifier used was too simplistic to accurately predict the sentiment of the Wikipedia articles."
   ]
  }
 ],
 "metadata": {
  "kernelspec": {
   "display_name": "dsan5000",
   "language": "python",
   "name": "python3"
  },
  "language_info": {
   "codemirror_mode": {
    "name": "ipython",
    "version": 3
   },
   "file_extension": ".py",
   "mimetype": "text/x-python",
   "name": "python",
   "nbconvert_exporter": "python",
   "pygments_lexer": "ipython3",
   "version": "3.11.5"
  }
 },
 "nbformat": 4,
 "nbformat_minor": 2
}
